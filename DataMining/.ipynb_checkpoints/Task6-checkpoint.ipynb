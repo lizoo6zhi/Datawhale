{
 "cells": [
  {
   "cell_type": "markdown",
   "metadata": {},
   "source": [
    "# 数据挖掘实践任务"
   ]
  },
  {
   "cell_type": "markdown",
   "metadata": {},
   "source": [
    "<b>任务描述</b>\n",
    "\n",
    "- 模型融合方式任意，并结合Task5给出你的最优结果\n",
    "- 例如Stacking融合，用你目前评分最高的模型作为基准模型，和其他模型进行stacking融合，得到最终模型及评分结果"
   ]
  },
  {
   "cell_type": "code",
   "execution_count": 40,
   "metadata": {},
   "outputs": [],
   "source": [
    "from sklearn.model_selection import train_test_split \n",
    "import pickle\n",
    "import numpy as np\n",
    "from sklearn.ensemble import RandomForestClassifier,VotingClassifier\n",
    "from sklearn.metrics import accuracy_score,precision_score,recall_score,f1_score,roc_auc_score,roc_curve\n",
    "from sklearn.model_selection import cross_val_predict\n",
    "from xgboost import XGBClassifier"
   ]
  },
  {
   "cell_type": "code",
   "execution_count": 2,
   "metadata": {},
   "outputs": [
    {
     "name": "stdout",
     "output_type": "stream",
     "text": [
      "feature shape:(4455, 49), label shape:(4455,)\n",
      "1559 1559 1337\n"
     ]
    }
   ],
   "source": [
    "# 获取Task2进行特征选择后的数据集\n",
    "import pandas as pd\n",
    "dataset = pd.read_csv('./dataset/task2_proc.csv')\n",
    "features = dataset.iloc[:,:-1]\n",
    "labels = dataset.iloc[:,-1]\n",
    "print('feature shape:{}, label shape:{}'.format(features.shape,labels.shape))\n",
    "\n",
    "random_state = 2018\n",
    "# 拆分数据集\n",
    "x_train,x_test,y_train,y_test = train_test_split(features,labels,test_size=0.3, random_state=random_state)\n",
    "x_sub1,x_sub2,y_sub1,y_sub2 = train_test_split(x_train,y_train,test_size = 0.5,random_state=random_state)\n",
    "print(len(x_sub1),len(x_sub2),len(x_test))"
   ]
  },
  {
   "cell_type": "code",
   "execution_count": 3,
   "metadata": {},
   "outputs": [],
   "source": [
    "# get etimators\n",
    "def getEstimators(file):\n",
    "    estimator = None\n",
    "    with open(file,'rb') as pf:\n",
    "        try:\n",
    "            estimator = pickle.load(pf)\n",
    "        except:\n",
    "            print('getEstimators error')\n",
    "    return estimator"
   ]
  },
  {
   "cell_type": "code",
   "execution_count": 38,
   "metadata": {},
   "outputs": [
    {
     "name": "stdout",
     "output_type": "stream",
     "text": [
      "./model_saved/DecisionTree.pickle\n",
      "./model_saved/logistic.pickle\n",
      "./model_saved/RandomForest.pickle\n",
      "./model_saved/svc.pickle\n",
      "./model_saved/xgboost.pickle\n"
     ]
    },
    {
     "data": {
      "text/plain": [
       "[DecisionTreeClassifier(class_weight=None, criterion='gini', max_depth=2,\n",
       "                        max_features=None, max_leaf_nodes=None,\n",
       "                        min_impurity_decrease=0.0, min_impurity_split=None,\n",
       "                        min_samples_leaf=0.1, min_samples_split=0.1,\n",
       "                        min_weight_fraction_leaf=0.0, presort=False,\n",
       "                        random_state=None, splitter='best'),\n",
       " LogisticRegression(C=0.49304878062589097, class_weight=None, dual=False,\n",
       "                    fit_intercept=True, intercept_scaling=1, l1_ratio=None,\n",
       "                    max_iter=100, multi_class='warn', n_jobs=None, penalty='l2',\n",
       "                    random_state=None, solver='liblinear', tol=0.0001, verbose=0,\n",
       "                    warm_start=False),\n",
       " RandomForestClassifier(bootstrap=True, class_weight=None, criterion='gini',\n",
       "                        max_depth=25, max_features='auto', max_leaf_nodes=None,\n",
       "                        min_impurity_decrease=0.0, min_impurity_split=None,\n",
       "                        min_samples_leaf=1, min_samples_split=2,\n",
       "                        min_weight_fraction_leaf=0.0, n_estimators=100,\n",
       "                        n_jobs=None, oob_score=False, random_state=None,\n",
       "                        verbose=0, warm_start=False),\n",
       " SVC(C=0.8995264460408958, cache_size=200, class_weight=None, coef0=0.0,\n",
       "     decision_function_shape='ovr', degree=3, gamma='auto_deprecated',\n",
       "     kernel='rbf', max_iter=-1, probability=False, random_state=None,\n",
       "     shrinking=True, tol=0.001, verbose=False),\n",
       " XGBClassifier(base_score=0.5, booster='gbtree', colsample_bylevel=1,\n",
       "               colsample_bynode=1, colsample_bytree=1, gamma=0,\n",
       "               learning_rate=0.1, max_delta_step=0, max_depth=3,\n",
       "               min_child_weight=1, missing=nan, n_estimators=100, n_jobs=1,\n",
       "               nthread=None, objective='binary:logistic', random_state=0,\n",
       "               reg_alpha=0, reg_lambda=1, scale_pos_weight=1, seed=None,\n",
       "               silent=None, subsample=1, verbosity=1)]"
      ]
     },
     "execution_count": 38,
     "metadata": {},
     "output_type": "execute_result"
    }
   ],
   "source": [
    "import os\n",
    "root = './model_saved/'\n",
    "estimators = []\n",
    "for file in os.listdir(root):\n",
    "    file_path = os.path.join(root,file)\n",
    "    print(file_path)\n",
    "    estimators.append(getEstimators(file_path))\n",
    "estimators"
   ]
  },
  {
   "cell_type": "markdown",
   "metadata": {},
   "source": [
    "# 使用Stacking进行模型融合"
   ]
  },
  {
   "cell_type": "code",
   "execution_count": 51,
   "metadata": {},
   "outputs": [
    {
     "name": "stderr",
     "output_type": "stream",
     "text": [
      "C:\\Anaconda3\\lib\\site-packages\\sklearn\\svm\\base.py:193: FutureWarning: The default value of gamma will change from 'auto' to 'scale' in version 0.22 to account better for unscaled features. Set gamma explicitly to 'auto' or 'scale' to avoid this warning.\n",
      "  \"avoid this warning.\", FutureWarning)\n"
     ]
    },
    {
     "data": {
      "text/plain": [
       "XGBClassifier(base_score=0.5, booster='gbtree', colsample_bylevel=1,\n",
       "              colsample_bynode=1, colsample_bytree=1, gamma=0,\n",
       "              learning_rate=0.05, max_delta_step=0, max_depth=3,\n",
       "              min_child_weight=1, missing=None, n_estimators=100, n_jobs=1,\n",
       "              nthread=None, objective='binary:logistic', random_state=0,\n",
       "              reg_alpha=0, reg_lambda=1, scale_pos_weight=1, seed=None,\n",
       "              silent=None, subsample=1, verbosity=1)"
      ]
     },
     "execution_count": 51,
     "metadata": {},
     "output_type": "execute_result"
    }
   ],
   "source": [
    "x_sub2_predict = np.empty((len(x_sub1),len(estimators)),dtype=np.float32)\n",
    "x_test_predict = np.empty((len(x_test),len(estimators)),dtype=np.float32)\n",
    "for i,estimator in enumerate(estimators):\n",
    "    estimator.fit(x_sub1,y_sub1)\n",
    "    x_sub2_predict[:,i] = estimator.predict(x_sub2)\n",
    "    x_test_predict[:,i] = estimator.predict(x_test)    \n",
    "    \n",
    "#rnd_forest_blender = RandomForestClassifier(n_estimators=200, oob_score=True, random_state=42)\n",
    "rnd_forest_blender = XGBClassifier(learning_rate=0.05, max_depth=3)\n",
    "rnd_forest_blender.fit(x_sub2_predict, y_sub2)"
   ]
  },
  {
   "cell_type": "code",
   "execution_count": 52,
   "metadata": {},
   "outputs": [
    {
     "name": "stdout",
     "output_type": "stream",
     "text": [
      "Stacking 0.7958115183246073\n",
      "DecisionTreeClassifier 0.74943904263276\n",
      "LogisticRegression 0.7569184741959611\n",
      "RandomForestClassifier 0.7980553477935677\n",
      "SVC 0.7576664173522812\n",
      "XGBClassifier 0.7883320867614061\n",
      "accuracy:0.796,precision:0.738,recall:0.244,f1:0.367,roc_auc:0.788\n"
     ]
    }
   ],
   "source": [
    "# 使用测试集进行测试\n",
    "y_pred = rnd_forest_blender.predict(x_test_predict)\n",
    "y_pred_scores = cross_val_predict(rnd_forest_blender,x_test,y_test,cv=5,\n",
    "                                    method='predict_proba')\n",
    "accuracy = accuracy_score(y_test,y_pred)\n",
    "print('Stacking',accuracy)\n",
    "for estimator in estimators:\n",
    "    print(estimator.__class__.__name__,estimator.score(x_test, y_test))\n",
    "    \n",
    "precision = precision_score(y_test,y_pred)\n",
    "recall = recall_score(y_test,y_pred)\n",
    "f1 = f1_score(y_test,y_pred)\n",
    "roc_auc = roc_auc_score(y_test,y_pred_scores[:,1])\n",
    "print('accuracy:{:.3f},precision:{:.3f},recall:{:.3f},f1:{:.3f},roc_auc:{:.3f}'.format(accuracy,precision,recall,f1,roc_auc))"
   ]
  },
  {
   "cell_type": "markdown",
   "metadata": {},
   "source": [
    "# 使用投票分类器进行模型拟合"
   ]
  },
  {
   "cell_type": "code",
   "execution_count": 39,
   "metadata": {},
   "outputs": [
    {
     "name": "stdout",
     "output_type": "stream",
     "text": [
      "DecisionTreeClassifier 0.7786088257292446\n",
      "LogisticRegression 0.7569184741959611\n",
      "RandomForestClassifier 0.7928197456993269\n"
     ]
    },
    {
     "name": "stderr",
     "output_type": "stream",
     "text": [
      "C:\\Anaconda3\\lib\\site-packages\\sklearn\\svm\\base.py:193: FutureWarning: The default value of gamma will change from 'auto' to 'scale' in version 0.22 to account better for unscaled features. Set gamma explicitly to 'auto' or 'scale' to avoid this warning.\n",
      "  \"avoid this warning.\", FutureWarning)\n"
     ]
    },
    {
     "name": "stdout",
     "output_type": "stream",
     "text": [
      "SVC 0.7576664173522812\n",
      "XGBClassifier 0.8010471204188482\n"
     ]
    },
    {
     "name": "stderr",
     "output_type": "stream",
     "text": [
      "C:\\Anaconda3\\lib\\site-packages\\sklearn\\svm\\base.py:193: FutureWarning: The default value of gamma will change from 'auto' to 'scale' in version 0.22 to account better for unscaled features. Set gamma explicitly to 'auto' or 'scale' to avoid this warning.\n",
      "  \"avoid this warning.\", FutureWarning)\n"
     ]
    },
    {
     "name": "stdout",
     "output_type": "stream",
     "text": [
      "VotingClassifier 0.7808526551982049\n"
     ]
    }
   ],
   "source": [
    "named_estimators = [naned_estimator for naned_estimator in zip(['dt','lr','rf','svc','xgb'],estimators)]\n",
    "voting_clf = VotingClassifier(estimators=named_estimators,voting='hard')\n",
    "new_estimators = estimators.copy()\n",
    "new_estimators.append(voting_clf)\n",
    "for clf in new_estimators:\n",
    "    clf.fit(x_train,y_train)\n",
    "    y_pred = clf.predict(x_test)\n",
    "    print(clf.__class__.__name__,accuracy_score(y_test,y_pred))"
   ]
  },
  {
   "cell_type": "markdown",
   "metadata": {},
   "source": [
    "# 总结"
   ]
  },
  {
   "cell_type": "markdown",
   "metadata": {},
   "source": [
    "使用Stacking进行模型融合，最后结果：accuracy:0.796,precision:0.738,recall:0.244,f1:0.367,roc_auc:0.788"
   ]
  },
  {
   "cell_type": "markdown",
   "metadata": {},
   "source": [
    "后续需要对特征衍生、特征选择和模型调参部分进行研究以优化最后模型"
   ]
  }
 ],
 "metadata": {
  "kernelspec": {
   "display_name": "Python 3",
   "language": "python",
   "name": "python3"
  },
  "language_info": {
   "codemirror_mode": {
    "name": "ipython",
    "version": 3
   },
   "file_extension": ".py",
   "mimetype": "text/x-python",
   "name": "python",
   "nbconvert_exporter": "python",
   "pygments_lexer": "ipython3",
   "version": "3.6.7"
  },
  "toc": {
   "base_numbering": 1,
   "nav_menu": {},
   "number_sections": true,
   "sideBar": true,
   "skip_h1_title": false,
   "title_cell": "Table of Contents",
   "title_sidebar": "Contents",
   "toc_cell": false,
   "toc_position": {
    "height": "calc(100% - 180px)",
    "left": "10px",
    "top": "150px",
    "width": "188.78px"
   },
   "toc_section_display": true,
   "toc_window_display": true
  }
 },
 "nbformat": 4,
 "nbformat_minor": 2
}
