{
 "cells": [
  {
   "cell_type": "markdown",
   "metadata": {},
   "source": [
    "# 数据挖掘实践任务"
   ]
  },
  {
   "cell_type": "markdown",
   "metadata": {},
   "source": [
    "## 任务描述\n",
    "\n",
    "- 特征衍生\n",
    "- 特征挑选：分别用IV值和随机森林等进行特征选择\n",
    "- ……以及你能想到特征工程处理"
   ]
  },
  {
   "cell_type": "markdown",
   "metadata": {},
   "source": [
    "# 使用IV值进行特征选择"
   ]
  },
  {
   "cell_type": "code",
   "execution_count": 102,
   "metadata": {},
   "outputs": [],
   "source": [
    "# 读取任务1处理后的数据集\n",
    "import pandas as pd\n",
    "import numpy as np\n",
    "\n",
    "data = pd.read_csv('./dataset/task1_proc.csv',encoding='gbk')\n",
    "label = data['status']\n",
    "features = data.drop(['status'],axis = 1, inplace=False)"
   ]
  },
  {
   "cell_type": "code",
   "execution_count": 103,
   "metadata": {},
   "outputs": [],
   "source": [
    "def cal_iv(feature,label,p_nums,n_nums):\n",
    "    feature_values = feature.unique()\n",
    "    group_p_nums = group_n_nums = np.zeros(feature_values.shape)  # 每个分组正样本和负样本的数量\n",
    "    WOE = np.zeros(feature_values.shape)\n",
    "    iv = 0\n",
    "    for i,val in enumerate(feature_values):\n",
    "        group_p_nums[i] = label[(feature==val)&(label==0)].count()\n",
    "        group_n_nums[i] = label[(feature==val)&(label==1)].count()\n",
    "        \n",
    "        if group_p_nums[i] == 0: group_p_nums[i] = 1\n",
    "        if group_n_nums[i] == 0: group_n_nums[i] = 1\n",
    "    \n",
    "    iv = np.sum((group_p_nums/p_nums - group_n_nums/n_nums)* np.log((group_p_nums / p_nums)/(group_n_nums / n_nums)))\n",
    "    if iv >= 1.0:\n",
    "        iv = 1\n",
    "    return iv"
   ]
  },
  {
   "cell_type": "code",
   "execution_count": 111,
   "metadata": {},
   "outputs": [],
   "source": [
    "def get_feature_iv_table(features,label):\n",
    "    p_nums = np.sum(label==0)  # 所有样本中不逾期的样本\n",
    "    n_nums = np.sum(label==1) # 所有样本中预期的样本\n",
    "    temp = []\n",
    "    for col in features.columns:\n",
    "        temp.append(cal_iv(features[col],label,p_nums,n_nums))\n",
    "    iv_df = pd.DataFrame({'features':features.columns, 'IV':temp}, columns=['features', 'IV'])\n",
    "    return iv_df"
   ]
  },
  {
   "cell_type": "code",
   "execution_count": 112,
   "metadata": {},
   "outputs": [],
   "source": [
    "iv_df = get_feature_iv_table(features,label)"
   ]
  },
  {
   "cell_type": "code",
   "execution_count": 114,
   "metadata": {},
   "outputs": [
    {
     "name": "stdout",
     "output_type": "stream",
     "text": [
      "                               features        IV\n",
      "19                                  abs  1.000000\n",
      "17                 trans_amount_3_month  1.000000\n",
      "14              historical_trans_amount  1.000000\n",
      "13               first_transaction_time  1.000000\n",
      "32       consume_mini_time_last_1_month  1.000000\n",
      "..                                  ...       ...\n",
      "11                         is_high_user  0.723474\n",
      "35  railway_consume_count_last_12_month  0.723474\n",
      "9                     regional_mobility  0.723474\n",
      "16                    rank_trad_1_month  0.723474\n",
      "23              reg_preference_for_trad  0.723474\n",
      "\n",
      "[80 rows x 2 columns]\n"
     ]
    }
   ],
   "source": [
    "print(iv_df.sort_values('IV',ascending=False))"
   ]
  },
  {
   "cell_type": "markdown",
   "metadata": {},
   "source": [
    "# 使用随机森林进行特征选择"
   ]
  }
 ],
 "metadata": {
  "kernelspec": {
   "display_name": "Python 3",
   "language": "python",
   "name": "python3"
  },
  "language_info": {
   "codemirror_mode": {
    "name": "ipython",
    "version": 3
   },
   "file_extension": ".py",
   "mimetype": "text/x-python",
   "name": "python",
   "nbconvert_exporter": "python",
   "pygments_lexer": "ipython3",
   "version": "3.6.7"
  },
  "toc": {
   "base_numbering": 1,
   "nav_menu": {},
   "number_sections": true,
   "sideBar": true,
   "skip_h1_title": false,
   "title_cell": "Table of Contents",
   "title_sidebar": "Contents",
   "toc_cell": false,
   "toc_position": {
    "height": "calc(100% - 180px)",
    "left": "10px",
    "top": "150px",
    "width": "222.79px"
   },
   "toc_section_display": true,
   "toc_window_display": true
  }
 },
 "nbformat": 4,
 "nbformat_minor": 2
}
