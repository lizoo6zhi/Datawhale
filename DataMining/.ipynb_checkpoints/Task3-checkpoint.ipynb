{
 "cells": [
  {
   "cell_type": "markdown",
   "metadata": {},
   "source": [
    "# 数据挖掘实践任务"
   ]
  },
  {
   "cell_type": "markdown",
   "metadata": {},
   "source": [
    "<b>任务描述</b>\n",
    "\n",
    "- 用逻辑回归、svm和决策树、随机森林和XGBoost进行模型构建，评分方式任意，如准确率等。（不需要考虑模型调参）"
   ]
  },
  {
   "cell_type": "code",
   "execution_count": 1,
   "metadata": {},
   "outputs": [
    {
     "name": "stdout",
     "output_type": "stream",
     "text": [
      "feature shape:(4455, 50), label shape:(4455,)\n"
     ]
    }
   ],
   "source": [
    "# 获取Task2进行特征选择后的数据集\n",
    "import pandas as pd\n",
    "dataset = pd.read_csv('./dataset/task2_proc.csv')\n",
    "features = dataset.iloc[:,:-1]\n",
    "labels = dataset.iloc[:,-1]\n",
    "print('feature shape:{}, label shape:{}'.format(features.shape,labels.shape))"
   ]
  },
  {
   "cell_type": "code",
   "execution_count": 2,
   "metadata": {},
   "outputs": [],
   "source": [
    "# 数据拆分\n",
    "from sklearn.model_selection import train_test_split\n",
    "from sklearn.preprocessing import StandardScaler\n",
    "\n",
    "random_state = 2018\n",
    "x_train,x_test,y_train,y_test = train_test_split(features,labels,test_size = 0.3,random_state=random_state)\n",
    "\n",
    "# 对训练数据集进行标准化处理\n",
    "scaler = StandardScaler()\n",
    "x_train_scale = scaler.fit_transform(x_train)\n",
    "x_test_scale = scaler.fit_transform(x_test)"
   ]
  },
  {
   "cell_type": "code",
   "execution_count": 3,
   "metadata": {},
   "outputs": [],
   "source": [
    "# 导入库\n",
    "from sklearn.linear_model import LogisticRegression\n",
    "from sklearn.svm import SVC\n",
    "from sklearn.tree import DecisionTreeClassifier\n",
    "from sklearn.ensemble import RandomForestClassifier\n",
    "from sklearn.model_selection import RandomizedSearchCV,cross_val_predict\n",
    "from scipy.stats import uniform\n",
    "from sklearn.metrics import accuracy_score,precision_score,recall_score,f1_score,roc_auc_score,roc_curve\n",
    "import matplotlib.pyplot as plt"
   ]
  },
  {
   "cell_type": "code",
   "execution_count": 4,
   "metadata": {},
   "outputs": [],
   "source": [
    "def print_score(accuracy,precision,recall,f1,roc_auc):\n",
    "    print('accuracy_score:', accuracy)\n",
    "    print('precision_score:', precision)\n",
    "    print('recall_score:', recall)\n",
    "    print('f1_score:', f1)\n",
    "    print('roc_auc_score:', roc_auc)"
   ]
  },
  {
   "cell_type": "code",
   "execution_count": 5,
   "metadata": {},
   "outputs": [],
   "source": [
    "model_score = []   # 保存个模型的系列评分\n",
    "decision_score = [] # 保存各模型的决策分数"
   ]
  },
  {
   "cell_type": "markdown",
   "metadata": {},
   "source": [
    "# 逻辑回归"
   ]
  },
  {
   "cell_type": "code",
   "execution_count": 6,
   "metadata": {},
   "outputs": [
    {
     "name": "stdout",
     "output_type": "stream",
     "text": [
      "Fitting 3 folds for each of 100 candidates, totalling 300 fits\n"
     ]
    },
    {
     "name": "stderr",
     "output_type": "stream",
     "text": [
      "[Parallel(n_jobs=-1)]: Using backend LokyBackend with 8 concurrent workers.\n",
      "[Parallel(n_jobs=-1)]: Done  25 tasks      | elapsed:    3.0s\n",
      "[Parallel(n_jobs=-1)]: Done 146 tasks      | elapsed:    6.8s\n",
      "[Parallel(n_jobs=-1)]: Done 300 out of 300 | elapsed:   11.3s finished\n"
     ]
    }
   ],
   "source": [
    "param_distributions = {'C':uniform(0,10)}\n",
    "rs_clf = RandomizedSearchCV(LogisticRegression(solver='liblinear'), param_distributions=param_distributions, cv = 3,n_iter=100,\n",
    "                           random_state=random_state,verbose=2,n_jobs=-1)\n",
    "rs_clf.fit(x_train_scale,y_train)\n",
    "logistic = rs_clf.best_estimator_"
   ]
  },
  {
   "cell_type": "code",
   "execution_count": 7,
   "metadata": {},
   "outputs": [
    {
     "name": "stdout",
     "output_type": "stream",
     "text": [
      "accuracy_score: 0.7913238593866866\n",
      "precision_score: 0.6243093922651933\n",
      "recall_score: 0.3487654320987654\n",
      "f1_score: 0.44752475247524753\n",
      "roc_auc_score: 0.7840298343753426\n"
     ]
    }
   ],
   "source": [
    "y_pred = logistic.predict(x_test_scale)\n",
    "y_pred_scores = cross_val_predict(logistic,x_test_scale,y_test,cv=5,\n",
    "                                method='decision_function')\n",
    "decision_score.append(y_pred_scores)\n",
    "accuracy = accuracy_score(y_test,y_pred)\n",
    "precision = precision_score(y_test,y_pred)\n",
    "recall = recall_score(y_test,y_pred)\n",
    "f1 = f1_score(y_test,y_pred)\n",
    "roc_auc = roc_auc_score(y_test,y_pred_scores)\n",
    "\n",
    "model_score.append([accuracy,precision,recall,f1,roc_auc])\n",
    "print_score(accuracy,precision,recall,f1,roc_auc)"
   ]
  },
  {
   "cell_type": "markdown",
   "metadata": {},
   "source": [
    "# SVM"
   ]
  },
  {
   "cell_type": "code",
   "execution_count": 8,
   "metadata": {},
   "outputs": [
    {
     "name": "stdout",
     "output_type": "stream",
     "text": [
      "Fitting 3 folds for each of 100 candidates, totalling 300 fits\n"
     ]
    },
    {
     "name": "stderr",
     "output_type": "stream",
     "text": [
      "[Parallel(n_jobs=-1)]: Using backend LokyBackend with 8 concurrent workers.\n",
      "[Parallel(n_jobs=-1)]: Done  25 tasks      | elapsed:   30.0s\n",
      "[Parallel(n_jobs=-1)]: Done 146 tasks      | elapsed:  2.6min\n",
      "[Parallel(n_jobs=-1)]: Done 300 out of 300 | elapsed:  4.9min finished\n"
     ]
    },
    {
     "data": {
      "text/plain": [
       "RandomizedSearchCV(cv=3, error_score='raise-deprecating',\n",
       "                   estimator=SVC(C=1.0, cache_size=200, class_weight=None,\n",
       "                                 coef0=0.0, decision_function_shape='ovr',\n",
       "                                 degree=3, gamma='auto_deprecated',\n",
       "                                 kernel='linear', max_iter=-1,\n",
       "                                 probability=False, random_state=None,\n",
       "                                 shrinking=True, tol=0.001, verbose=False),\n",
       "                   iid='warn', n_iter=100, n_jobs=-1,\n",
       "                   param_distributions={'C': <scipy.stats._distn_infrastructure.rv_frozen object at 0x0000020636373F60>},\n",
       "                   pre_dispatch='2*n_jobs', random_state=2018, refit=True,\n",
       "                   return_train_score=False, scoring=None, verbose=2)"
      ]
     },
     "execution_count": 8,
     "metadata": {},
     "output_type": "execute_result"
    }
   ],
   "source": [
    "param_distributions = {'C':uniform(0,10)}\n",
    "rs_clf = RandomizedSearchCV(SVC(kernel='linear'), param_distributions=param_distributions,cv=3,n_iter=100,\n",
    "                              random_state=random_state,verbose=2,n_jobs=-1)\n",
    "rs_clf.fit(x_train_scale, y_train)"
   ]
  },
  {
   "cell_type": "code",
   "execution_count": 10,
   "metadata": {},
   "outputs": [
    {
     "name": "stdout",
     "output_type": "stream",
     "text": [
      "accuracy_score: 0.7905759162303665\n",
      "precision_score: 0.6964285714285714\n",
      "recall_score: 0.24074074074074073\n",
      "f1_score: 0.3577981651376147\n",
      "roc_auc_score: 0.7879602208328763\n"
     ]
    }
   ],
   "source": [
    "svc = rs_clf.best_estimator_\n",
    "\n",
    "y_pred = svc.predict(x_test_scale)\n",
    "y_pred_scores = cross_val_predict(svc,x_test_scale,y_test,cv=5,\n",
    "                                method='decision_function')\n",
    "decision_score.append(y_pred_scores)\n",
    "accuracy = accuracy_score(y_test,y_pred)\n",
    "precision = precision_score(y_test,y_pred)\n",
    "recall = recall_score(y_test,y_pred)\n",
    "f1 = f1_score(y_test,y_pred)\n",
    "roc_auc = roc_auc_score(y_test,y_pred_scores)\n",
    "\n",
    "model_score.append([accuracy,precision,recall,f1,roc_auc])\n",
    "print_score(accuracy,precision,recall,f1,roc_auc)"
   ]
  },
  {
   "cell_type": "markdown",
   "metadata": {},
   "source": [
    "# 决策树"
   ]
  },
  {
   "cell_type": "code",
   "execution_count": 12,
   "metadata": {},
   "outputs": [
    {
     "name": "stdout",
     "output_type": "stream",
     "text": [
      "accuracy_score: 0.712789827973074\n",
      "precision_score: 0.4175824175824176\n",
      "recall_score: 0.4691358024691358\n",
      "f1_score: 0.44186046511627913\n",
      "roc_auc_score: 0.5770904171693906\n"
     ]
    }
   ],
   "source": [
    "dt_clf = DecisionTreeClassifier()\n",
    "dt_clf.fit(x_train_scale,y_train)\n",
    "y_pred = dt_clf.predict(x_test_scale)\n",
    "y_pred_scores = cross_val_predict(dt_clf,x_test_scale,y_test,cv=5,\n",
    "                                method='predict_proba')\n",
    "decision_score.append(y_pred_scores[:,1])\n",
    "accuracy = accuracy_score(y_test,y_pred)\n",
    "precision = precision_score(y_test,y_pred)\n",
    "recall = recall_score(y_test,y_pred)\n",
    "f1 = f1_score(y_test,y_pred)\n",
    "roc_auc = roc_auc_score(y_test,y_pred_scores[:,1])\n",
    "\n",
    "model_score.append([accuracy,precision,recall,f1,roc_auc])\n",
    "print_score(accuracy,precision,recall,f1,roc_auc)"
   ]
  },
  {
   "cell_type": "markdown",
   "metadata": {},
   "source": [
    "# 随机森林"
   ]
  },
  {
   "cell_type": "code",
   "execution_count": 14,
   "metadata": {},
   "outputs": [
    {
     "data": {
      "text/plain": [
       "0.7957023733162284"
      ]
     },
     "execution_count": 14,
     "metadata": {},
     "output_type": "execute_result"
    }
   ],
   "source": [
    "rf_clf = RandomForestClassifier(n_estimators=1000,criterion='gini',oob_score=True,\n",
    "                               random_state=random_state,verbose=0,n_jobs=-1)\n",
    "rf_clf.fit(x_train_scale,y_train)\n",
    "rf_clf.oob_score_"
   ]
  },
  {
   "cell_type": "code",
   "execution_count": 15,
   "metadata": {
    "scrolled": true
   },
   "outputs": [
    {
     "name": "stdout",
     "output_type": "stream",
     "text": [
      "accuracy_score: 0.8017950635751683\n",
      "precision_score: 0.7122302158273381\n",
      "recall_score: 0.3055555555555556\n",
      "f1_score: 0.4276457883369331\n",
      "roc_auc_score: 0.7767647130513206\n"
     ]
    }
   ],
   "source": [
    "y_pred = rf_clf.predict(x_test_scale)\n",
    "y_pred_scores = cross_val_predict(rf_clf,x_test_scale,y_test,cv=5,\n",
    "                                method='predict_proba')\n",
    "decision_score.append(y_pred_scores[:,1])\n",
    "accuracy = accuracy_score(y_test,y_pred)\n",
    "precision = precision_score(y_test,y_pred)\n",
    "recall = recall_score(y_test,y_pred)\n",
    "f1 = f1_score(y_test,y_pred)\n",
    "roc_auc = roc_auc_score(y_test,y_pred_scores[:,1])\n",
    "\n",
    "model_score.append([accuracy,precision,recall,f1,roc_auc])\n",
    "print_score(accuracy,precision,recall,f1,roc_auc)"
   ]
  },
  {
   "cell_type": "markdown",
   "metadata": {},
   "source": [
    "# xgboost"
   ]
  },
  {
   "cell_type": "code",
   "execution_count": 16,
   "metadata": {},
   "outputs": [
    {
     "data": {
      "text/plain": [
       "XGBClassifier(base_score=0.5, booster='gbtree', colsample_bylevel=1,\n",
       "              colsample_bynode=1, colsample_bytree=1, gamma=0,\n",
       "              learning_rate=0.1, max_delta_step=0, max_depth=3,\n",
       "              min_child_weight=1, missing=None, n_estimators=100, n_jobs=1,\n",
       "              nthread=None, objective='binary:logistic', random_state=0,\n",
       "              reg_alpha=0, reg_lambda=1, scale_pos_weight=1, seed=None,\n",
       "              silent=None, subsample=1, verbosity=1)"
      ]
     },
     "execution_count": 16,
     "metadata": {},
     "output_type": "execute_result"
    }
   ],
   "source": [
    "from xgboost import XGBClassifier\n",
    "xgbst = XGBClassifier()\n",
    "xgbst.fit(x_train_scale,y_train)"
   ]
  },
  {
   "cell_type": "code",
   "execution_count": 18,
   "metadata": {},
   "outputs": [
    {
     "name": "stdout",
     "output_type": "stream",
     "text": [
      "accuracy_score: 0.806282722513089\n",
      "precision_score: 0.7070063694267515\n",
      "recall_score: 0.3425925925925926\n",
      "f1_score: 0.4615384615384615\n",
      "roc_auc_score: 0.7982767235810999\n"
     ]
    }
   ],
   "source": [
    "y_pred = xgbst.predict(x_test_scale)\n",
    "y_pred_scores = cross_val_predict(xgbst,x_test_scale,y_test,cv=5,\n",
    "                                method='predict_proba')\n",
    "decision_score.append(y_pred_scores[:,1])\n",
    "accuracy = accuracy_score(y_test,y_pred)\n",
    "precision = precision_score(y_test,y_pred)\n",
    "recall = recall_score(y_test,y_pred)\n",
    "f1 = f1_score(y_test,y_pred)\n",
    "roc_auc = roc_auc_score(y_test,y_pred_scores[:,1])\n",
    "\n",
    "model_score.append([accuracy,precision,recall,f1,roc_auc])\n",
    "print_score(accuracy,precision,recall,f1,roc_auc)"
   ]
  },
  {
   "cell_type": "markdown",
   "metadata": {},
   "source": [
    "# 对各模型分数进行比较"
   ]
  },
  {
   "cell_type": "code",
   "execution_count": 19,
   "metadata": {},
   "outputs": [
    {
     "data": {
      "text/html": [
       "<div>\n",
       "<style scoped>\n",
       "    .dataframe tbody tr th:only-of-type {\n",
       "        vertical-align: middle;\n",
       "    }\n",
       "\n",
       "    .dataframe tbody tr th {\n",
       "        vertical-align: top;\n",
       "    }\n",
       "\n",
       "    .dataframe thead th {\n",
       "        text-align: right;\n",
       "    }\n",
       "</style>\n",
       "<table border=\"1\" class=\"dataframe\">\n",
       "  <thead>\n",
       "    <tr style=\"text-align: right;\">\n",
       "      <th></th>\n",
       "      <th>accuracy</th>\n",
       "      <th>precision</th>\n",
       "      <th>recall</th>\n",
       "      <th>f1</th>\n",
       "      <th>roc_auc</th>\n",
       "    </tr>\n",
       "  </thead>\n",
       "  <tbody>\n",
       "    <tr>\n",
       "      <th>Logistic</th>\n",
       "      <td>0.791324</td>\n",
       "      <td>0.624309</td>\n",
       "      <td>0.348765</td>\n",
       "      <td>0.447525</td>\n",
       "      <td>0.784030</td>\n",
       "    </tr>\n",
       "    <tr>\n",
       "      <th>SVM</th>\n",
       "      <td>0.790576</td>\n",
       "      <td>0.696429</td>\n",
       "      <td>0.240741</td>\n",
       "      <td>0.357798</td>\n",
       "      <td>0.787960</td>\n",
       "    </tr>\n",
       "    <tr>\n",
       "      <th>DecisionTree</th>\n",
       "      <td>0.712790</td>\n",
       "      <td>0.417582</td>\n",
       "      <td>0.469136</td>\n",
       "      <td>0.441860</td>\n",
       "      <td>0.577090</td>\n",
       "    </tr>\n",
       "    <tr>\n",
       "      <th>RandomForest</th>\n",
       "      <td>0.801795</td>\n",
       "      <td>0.712230</td>\n",
       "      <td>0.305556</td>\n",
       "      <td>0.427646</td>\n",
       "      <td>0.776765</td>\n",
       "    </tr>\n",
       "    <tr>\n",
       "      <th>xgboost</th>\n",
       "      <td>0.806283</td>\n",
       "      <td>0.707006</td>\n",
       "      <td>0.342593</td>\n",
       "      <td>0.461538</td>\n",
       "      <td>0.798277</td>\n",
       "    </tr>\n",
       "  </tbody>\n",
       "</table>\n",
       "</div>"
      ],
      "text/plain": [
       "              accuracy  precision    recall        f1   roc_auc\n",
       "Logistic      0.791324   0.624309  0.348765  0.447525  0.784030\n",
       "SVM           0.790576   0.696429  0.240741  0.357798  0.787960\n",
       "DecisionTree  0.712790   0.417582  0.469136  0.441860  0.577090\n",
       "RandomForest  0.801795   0.712230  0.305556  0.427646  0.776765\n",
       "xgboost       0.806283   0.707006  0.342593  0.461538  0.798277"
      ]
     },
     "execution_count": 19,
     "metadata": {},
     "output_type": "execute_result"
    }
   ],
   "source": [
    "index = ['Logistic','SVM','DecisionTree','RandomForest','xgboost']\n",
    "columns = ['accuracy','precision','recall','f1','roc_auc']\n",
    "model_score_table =  pd.DataFrame(model_score,index=index,columns=columns)\n",
    "model_score_table"
   ]
  },
  {
   "cell_type": "code",
   "execution_count": 20,
   "metadata": {},
   "outputs": [
    {
     "data": {
      "image/png": "[encoded data removed]",
      "text/plain": [
       "<Figure size 432x288 with 1 Axes>"
      ]
     },
     "metadata": {
      "needs_background": "light"
     },
     "output_type": "display_data"
    }
   ],
   "source": [
    "# 绘制ROC取下对比图\n",
    "def plot_roc_curve(fpr,tpr,label=None):\n",
    "    plt.plot(fpr,tpr,linewidth=2,label=label)\n",
    "    plt.plot([0,1],[0,1],'k--')\n",
    "\n",
    "for score,label in zip(decision_score,['Logistic','SVM','DecisionTree','RandomForest','xgboost']):\n",
    "    fpr,tpr,threshold = roc_curve(y_test,score)\n",
    "    plot_roc_curve(fpr,tpr,label)\n",
    "plt.rcParams['figure.figsize'] = (8,5)    \n",
    "plt.axis([0,1,0,1])\n",
    "plt.xlabel('False Position Rate')\n",
    "plt.ylabel('False Position Rate')\n",
    "plt.legend()\n",
    "plt.show()"
   ]
  }
 ],
 "metadata": {
  "kernelspec": {
   "display_name": "Python 3",
   "language": "python",
   "name": "python3"
  },
  "language_info": {
   "codemirror_mode": {
    "name": "ipython",
    "version": 3
   },
   "file_extension": ".py",
   "mimetype": "text/x-python",
   "name": "python",
   "nbconvert_exporter": "python",
   "pygments_lexer": "ipython3",
   "version": "3.6.7"
  },
  "toc": {
   "base_numbering": 1,
   "nav_menu": {},
   "number_sections": true,
   "sideBar": true,
   "skip_h1_title": false,
   "title_cell": "Table of Contents",
   "title_sidebar": "Contents",
   "toc_cell": false,
   "toc_position": {
    "height": "calc(100% - 180px)",
    "left": "10px",
    "top": "150px",
    "width": "196.4px"
   },
   "toc_section_display": true,
   "toc_window_display": true
  }
 },
 "nbformat": 4,
 "nbformat_minor": 2
}
