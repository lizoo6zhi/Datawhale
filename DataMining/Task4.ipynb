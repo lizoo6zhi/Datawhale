{
 "cells": [
  {
   "cell_type": "markdown",
   "metadata": {},
   "source": [
    "# 数据挖掘实践任务"
   ]
  },
  {
   "cell_type": "markdown",
   "metadata": {},
   "source": [
    "<b>任务描述</b>\n",
    "\n",
    "- 记录5个模型（逻辑回归、SVM、决策树、随机森林、XGBoost）关于accuracy、precision，recall和F1-score、auc值的评分表格，并画出ROC曲线"
   ]
  },
  {
   "cell_type": "code",
   "execution_count": 1,
   "metadata": {},
   "outputs": [
    {
     "name": "stdout",
     "output_type": "stream",
     "text": [
      "feature shape:(4455, 49), label shape:(4455,)\n"
     ]
    }
   ],
   "source": [
    "# 获取Task2进行特征选择后的数据集\n",
    "import pandas as pd\n",
    "dataset = pd.read_csv('./dataset/task2_proc.csv')\n",
    "features = dataset.iloc[:,:-1]\n",
    "labels = dataset.iloc[:,-1]\n",
    "print('feature shape:{}, label shape:{}'.format(features.shape,labels.shape))"
   ]
  },
  {
   "cell_type": "code",
   "execution_count": 2,
   "metadata": {},
   "outputs": [],
   "source": [
    "# 数据拆分\n",
    "from sklearn.model_selection import train_test_split\n",
    "from sklearn.preprocessing import StandardScaler\n",
    "\n",
    "random_state = 2018\n",
    "x_train,x_test,y_train,y_test = train_test_split(features,labels,test_size = 0.3,random_state=random_state)\n",
    "\n",
    "# 对训练数据集进行标准化处理\n",
    "scaler = StandardScaler()\n",
    "x_train_scale = scaler.fit_transform(x_train)\n",
    "x_test_scale = scaler.fit_transform(x_test)"
   ]
  },
  {
   "cell_type": "code",
   "execution_count": 3,
   "metadata": {},
   "outputs": [],
   "source": [
    "# 导入库\n",
    "from sklearn.linear_model import LogisticRegression\n",
    "from sklearn.svm import SVC\n",
    "from sklearn.tree import DecisionTreeClassifier\n",
    "from sklearn.ensemble import RandomForestClassifier\n",
    "from sklearn.model_selection import RandomizedSearchCV,cross_val_predict\n",
    "from scipy.stats import uniform\n",
    "from sklearn.metrics import accuracy_score,precision_score,recall_score,f1_score,roc_auc_score,roc_curve,confusion_matrix\n",
    "import matplotlib.pyplot as plt\n",
    "import pickle"
   ]
  },
  {
   "cell_type": "code",
   "execution_count": 4,
   "metadata": {},
   "outputs": [],
   "source": [
    "model_score_train = []   \n",
    "decision_score_train = [] \n",
    "model_score_test = []   \n",
    "decision_score_test = []\n",
    "\n",
    "def proc_score(y_pred,y_pred_scores,y_test,train=True):  \n",
    "    accuracy = accuracy_score(y_test,y_pred)\n",
    "    precision = precision_score(y_test,y_pred)\n",
    "    recall = recall_score(y_test,y_pred)\n",
    "    f1 = f1_score(y_test,y_pred)\n",
    "    roc_auc = roc_auc_score(y_test,y_pred_scores)\n",
    "\n",
    "    if train:\n",
    "        decision_score_train.append(y_pred_scores)\n",
    "        model_score_train.append([accuracy,precision,recall,f1,roc_auc])\n",
    "        text = 'Train'\n",
    "    else:\n",
    "        decision_score_test.append(y_pred_scores)\n",
    "        model_score_test.append([accuracy,precision,recall,f1,roc_auc])\n",
    "        text = 'Test'\n",
    "    print('{} confusion matrix:\\n{}'.format(text,confusion_matrix(y_test,y_pred)))\n",
    "    print('{}: accuracy:{:.3f},precision:{:.3f},recall:{:.3f},f1:{:.3f},roc_auc:{:.3f}'.format(text,accuracy,precision,recall,f1,roc_auc))"
   ]
  },
  {
   "cell_type": "markdown",
   "metadata": {},
   "source": [
    "# 逻辑回归"
   ]
  },
  {
   "cell_type": "code",
   "execution_count": 5,
   "metadata": {},
   "outputs": [
    {
     "name": "stdout",
     "output_type": "stream",
     "text": [
      "Fitting 3 folds for each of 100 candidates, totalling 300 fits\n"
     ]
    },
    {
     "name": "stderr",
     "output_type": "stream",
     "text": [
      "[Parallel(n_jobs=-1)]: Using backend LokyBackend with 8 concurrent workers.\n",
      "[Parallel(n_jobs=-1)]: Done  25 tasks      | elapsed:    3.0s\n",
      "[Parallel(n_jobs=-1)]: Done 146 tasks      | elapsed:    6.3s\n",
      "[Parallel(n_jobs=-1)]: Done 300 out of 300 | elapsed:   11.1s finished\n"
     ]
    }
   ],
   "source": [
    "param_distributions = {'C':uniform(0,10)}\n",
    "rs_clf = RandomizedSearchCV(LogisticRegression(solver='liblinear'), param_distributions=param_distributions, cv = 3,n_iter=100,\n",
    "                           random_state=random_state,verbose=2,n_jobs=-1)\n",
    "rs_clf.fit(x_train_scale,y_train)\n",
    "logistic = rs_clf.best_estimator_\n",
    "#保存模型\n",
    "with open('./model_saved/logistic.pickle','wb') as pf:\n",
    "    pickle.dump(logistic,pf)"
   ]
  },
  {
   "cell_type": "code",
   "execution_count": 6,
   "metadata": {},
   "outputs": [
    {
     "name": "stdout",
     "output_type": "stream",
     "text": [
      "Train confusion matrix:\n",
      "[[2187  134]\n",
      " [ 500  297]]\n",
      "Train: accuracy:0.797,precision:0.689,recall:0.373,f1:0.484,roc_auc:0.789\n",
      "Test confusion matrix:\n",
      "[[922  91]\n",
      " [198 126]]\n",
      "Test: accuracy:0.784,precision:0.581,recall:0.389,f1:0.466,roc_auc:0.776\n"
     ]
    }
   ],
   "source": [
    "with open('./model_saved/logistic.pickle','rb') as pf:\n",
    "    logistic = pickle.load(pf)\n",
    "    y_pred = logistic.predict(x_train_scale)\n",
    "    y_pred_scores = cross_val_predict(logistic,x_train_scale,y_train,cv=5,\n",
    "                                    method='decision_function')\n",
    "    proc_score(y_pred,y_pred_scores,y_train,train=True)\n",
    "    y_pred = logistic.predict(x_test_scale)\n",
    "    y_pred_scores = cross_val_predict(logistic,x_test_scale,y_test,cv=5,\n",
    "                                    method='decision_function')\n",
    "    proc_score(y_pred,y_pred_scores,y_test,train=False)"
   ]
  },
  {
   "cell_type": "markdown",
   "metadata": {},
   "source": [
    "# SVM"
   ]
  },
  {
   "cell_type": "code",
   "execution_count": 7,
   "metadata": {},
   "outputs": [
    {
     "name": "stdout",
     "output_type": "stream",
     "text": [
      "Fitting 3 folds for each of 100 candidates, totalling 300 fits\n"
     ]
    },
    {
     "name": "stderr",
     "output_type": "stream",
     "text": [
      "[Parallel(n_jobs=-1)]: Using backend LokyBackend with 8 concurrent workers.\n",
      "[Parallel(n_jobs=-1)]: Done  25 tasks      | elapsed:   27.9s\n",
      "[Parallel(n_jobs=-1)]: Done 146 tasks      | elapsed:  2.3min\n",
      "[Parallel(n_jobs=-1)]: Done 300 out of 300 | elapsed:  4.2min finished\n"
     ]
    }
   ],
   "source": [
    "param_distributions = {'C':uniform(0,10)}\n",
    "rs_clf = RandomizedSearchCV(SVC(kernel='linear'), param_distributions=param_distributions,cv=3,n_iter=100,\n",
    "                              random_state=random_state,verbose=2,n_jobs=-1)\n",
    "rs_clf.fit(x_train_scale, y_train)\n",
    "with open('./model_saved/svc.pickle','wb') as pf:\n",
    "    pickle.dump(rs_clf.best_estimator_,pf)"
   ]
  },
  {
   "cell_type": "code",
   "execution_count": 8,
   "metadata": {},
   "outputs": [
    {
     "name": "stdout",
     "output_type": "stream",
     "text": [
      "Train confusion matrix:\n",
      "[[2237   84]\n",
      " [ 560  237]]\n",
      "Train: accuracy:0.793,precision:0.738,recall:0.297,f1:0.424,roc_auc:0.784\n",
      "Test confusion matrix:\n",
      "[[960  53]\n",
      " [227  97]]\n",
      "Test: accuracy:0.791,precision:0.647,recall:0.299,f1:0.409,roc_auc:0.778\n"
     ]
    }
   ],
   "source": [
    "with open('./model_saved/svc.pickle','rb') as pf:\n",
    "    svc = pickle.load(pf) \n",
    "    y_pred = svc.predict(x_train_scale)\n",
    "    y_pred_scores = cross_val_predict(svc,x_train_scale,y_train,cv=3,\n",
    "                                    method='decision_function')\n",
    "    proc_score(y_pred,y_pred_scores,y_train,train=True)\n",
    "\n",
    "    y_pred = svc.predict(x_test_scale)\n",
    "    y_pred_scores = cross_val_predict(svc,x_test_scale,y_test,cv=5,\n",
    "                                    method='decision_function')\n",
    "    proc_score(y_pred,y_pred_scores,y_test,train=False)"
   ]
  },
  {
   "cell_type": "markdown",
   "metadata": {},
   "source": [
    "# 决策树"
   ]
  },
  {
   "cell_type": "code",
   "execution_count": 9,
   "metadata": {},
   "outputs": [],
   "source": [
    "dt_clf = DecisionTreeClassifier(max_depth=8)\n",
    "dt_clf.fit(x_train_scale,y_train)\n",
    "with open('./model_saved/DecisionTree.pickle','wb') as pf:\n",
    "    pickle.dump(dt_clf,pf)"
   ]
  },
  {
   "cell_type": "code",
   "execution_count": 10,
   "metadata": {},
   "outputs": [
    {
     "name": "stdout",
     "output_type": "stream",
     "text": [
      "Train confusion matrix:\n",
      "[[2195  126]\n",
      " [ 239  558]]\n",
      "Train: accuracy:0.883,precision:0.816,recall:0.700,f1:0.754,roc_auc:0.669\n",
      "Test confusion matrix:\n",
      "[[871 142]\n",
      " [192 132]]\n",
      "Test: accuracy:0.750,precision:0.482,recall:0.407,f1:0.441,roc_auc:0.582\n"
     ]
    }
   ],
   "source": [
    "with open('./model_saved/DecisionTree.pickle','rb') as pf:\n",
    "    dt_clf = pickle.load(pf)\n",
    "    y_pred = dt_clf.predict(x_train_scale)\n",
    "    y_pred_scores = cross_val_predict(dt_clf,x_train_scale,y_train,cv=5,\n",
    "                                    method='predict_proba')\n",
    "    proc_score(y_pred,y_pred_scores[:,1],y_train,train=True)\n",
    "\n",
    "    y_pred = dt_clf.predict(x_test_scale)\n",
    "    y_pred_scores = cross_val_predict(dt_clf,x_test_scale,y_test,cv=5,\n",
    "                                    method='predict_proba')\n",
    "    proc_score(y_pred,y_pred_scores[:,1],y_test,train=False)"
   ]
  },
  {
   "cell_type": "markdown",
   "metadata": {},
   "source": [
    "# 随机森林"
   ]
  },
  {
   "cell_type": "code",
   "execution_count": 11,
   "metadata": {},
   "outputs": [],
   "source": [
    "rf_clf = RandomForestClassifier(n_estimators=1000,criterion='gini',oob_score=True,\n",
    "                               random_state=random_state,verbose=0,n_jobs=-1)\n",
    "rf_clf.fit(x_train_scale,y_train)\n",
    "rf_clf.oob_score_\n",
    "with open('./model_saved/RandomForest.pickle','wb') as pf:\n",
    "    pickle.dump(rf_clf,pf)"
   ]
  },
  {
   "cell_type": "code",
   "execution_count": 12,
   "metadata": {
    "scrolled": true
   },
   "outputs": [
    {
     "name": "stdout",
     "output_type": "stream",
     "text": [
      "Train confusion matrix:\n",
      "[[2321    0]\n",
      " [   0  797]]\n",
      "Train: accuracy:1.000,precision:1.000,recall:1.000,f1:1.000,roc_auc:0.783\n",
      "Test confusion matrix:\n",
      "[[972  41]\n",
      " [226  98]]\n",
      "Test: accuracy:0.800,precision:0.705,recall:0.302,f1:0.423,roc_auc:0.775\n"
     ]
    }
   ],
   "source": [
    "with open('./model_saved/RandomForest.pickle','rb') as pf:\n",
    "    rf_clf = pickle.load(pf)\n",
    "    y_pred = rf_clf.predict(x_train_scale)\n",
    "    y_pred_scores = cross_val_predict(rf_clf,x_train_scale,y_train,cv=5,\n",
    "                                    method='predict_proba')\n",
    "    proc_score(y_pred,y_pred_scores[:,1],y_train,train=True)\n",
    "\n",
    "    y_pred = rf_clf.predict(x_test_scale)\n",
    "    y_pred_scores = cross_val_predict(rf_clf,x_test_scale,y_test,cv=5,\n",
    "                                    method='predict_proba')\n",
    "    proc_score(y_pred,y_pred_scores[:,1],y_test,train=False)"
   ]
  },
  {
   "cell_type": "markdown",
   "metadata": {},
   "source": [
    "# xgboost"
   ]
  },
  {
   "cell_type": "code",
   "execution_count": 13,
   "metadata": {},
   "outputs": [],
   "source": [
    "from xgboost import XGBClassifier\n",
    "xgbst = XGBClassifier()\n",
    "xgbst.fit(x_train_scale,y_train)\n",
    "with open('./model_saved/xgboost.pickle','wb') as pf:\n",
    "    pickle.dump(xgbst,pf)"
   ]
  },
  {
   "cell_type": "code",
   "execution_count": 14,
   "metadata": {},
   "outputs": [
    {
     "name": "stdout",
     "output_type": "stream",
     "text": [
      "Train confusion matrix:\n",
      "[[2236   85]\n",
      " [ 394  403]]\n",
      "Train: accuracy:0.846,precision:0.826,recall:0.506,f1:0.627,roc_auc:0.787\n",
      "Test confusion matrix:\n",
      "[[965  48]\n",
      " [226  98]]\n",
      "Test: accuracy:0.795,precision:0.671,recall:0.302,f1:0.417,roc_auc:0.781\n"
     ]
    }
   ],
   "source": [
    "with open('./model_saved/xgboost.pickle','rb') as pf:\n",
    "    xgbst = pickle.load(pf)\n",
    "    y_pred = xgbst.predict(x_train_scale)\n",
    "    y_pred_scores = cross_val_predict(xgbst,x_train_scale,y_train,cv=5,\n",
    "                                    method='predict_proba')\n",
    "    proc_score(y_pred,y_pred_scores[:,1],y_train,train=True)\n",
    "\n",
    "    y_pred = xgbst.predict(x_test_scale)\n",
    "    y_pred_scores = cross_val_predict(xgbst,x_test_scale,y_test,cv=5,\n",
    "                                    method='predict_proba')\n",
    "    proc_score(y_pred,y_pred_scores[:,1],y_test,train=False)"
   ]
  },
  {
   "cell_type": "markdown",
   "metadata": {},
   "source": [
    "# 对各模型分数进行比较"
   ]
  },
  {
   "cell_type": "code",
   "execution_count": 15,
   "metadata": {},
   "outputs": [],
   "source": [
    "# 绘制ROC取下对比图\n",
    "def plot_roc_curve(fpr,tpr,label=None):\n",
    "    plt.plot(fpr,tpr,linewidth=2,label=label)\n",
    "    plt.plot([0,1],[0,1],'k--')"
   ]
  },
  {
   "cell_type": "code",
   "execution_count": 16,
   "metadata": {},
   "outputs": [
    {
     "data": {
      "text/html": [
       "<div>\n",
       "<style scoped>\n",
       "    .dataframe tbody tr th:only-of-type {\n",
       "        vertical-align: middle;\n",
       "    }\n",
       "\n",
       "    .dataframe tbody tr th {\n",
       "        vertical-align: top;\n",
       "    }\n",
       "\n",
       "    .dataframe thead th {\n",
       "        text-align: right;\n",
       "    }\n",
       "</style>\n",
       "<table border=\"1\" class=\"dataframe\">\n",
       "  <thead>\n",
       "    <tr style=\"text-align: right;\">\n",
       "      <th></th>\n",
       "      <th></th>\n",
       "      <th>accuracy</th>\n",
       "      <th>precision</th>\n",
       "      <th>recall</th>\n",
       "      <th>f1</th>\n",
       "      <th>roc_auc</th>\n",
       "    </tr>\n",
       "  </thead>\n",
       "  <tbody>\n",
       "    <tr>\n",
       "      <th rowspan=\"2\" valign=\"top\">Logistic</th>\n",
       "      <th>train</th>\n",
       "      <td>0.796665</td>\n",
       "      <td>0.689095</td>\n",
       "      <td>0.372647</td>\n",
       "      <td>0.483713</td>\n",
       "      <td>0.789119</td>\n",
       "    </tr>\n",
       "    <tr>\n",
       "      <th>test</th>\n",
       "      <td>0.783844</td>\n",
       "      <td>0.580645</td>\n",
       "      <td>0.388889</td>\n",
       "      <td>0.465804</td>\n",
       "      <td>0.776480</td>\n",
       "    </tr>\n",
       "    <tr>\n",
       "      <th rowspan=\"2\" valign=\"top\">SVM</th>\n",
       "      <th>train</th>\n",
       "      <td>0.793457</td>\n",
       "      <td>0.738318</td>\n",
       "      <td>0.297365</td>\n",
       "      <td>0.423971</td>\n",
       "      <td>0.783943</td>\n",
       "    </tr>\n",
       "    <tr>\n",
       "      <th>test</th>\n",
       "      <td>0.790576</td>\n",
       "      <td>0.646667</td>\n",
       "      <td>0.299383</td>\n",
       "      <td>0.409283</td>\n",
       "      <td>0.778290</td>\n",
       "    </tr>\n",
       "    <tr>\n",
       "      <th rowspan=\"2\" valign=\"top\">DecisionTree</th>\n",
       "      <th>train</th>\n",
       "      <td>0.882938</td>\n",
       "      <td>0.815789</td>\n",
       "      <td>0.700125</td>\n",
       "      <td>0.753545</td>\n",
       "      <td>0.668708</td>\n",
       "    </tr>\n",
       "    <tr>\n",
       "      <th>test</th>\n",
       "      <td>0.750187</td>\n",
       "      <td>0.481752</td>\n",
       "      <td>0.407407</td>\n",
       "      <td>0.441472</td>\n",
       "      <td>0.581594</td>\n",
       "    </tr>\n",
       "    <tr>\n",
       "      <th rowspan=\"2\" valign=\"top\">RandomForest</th>\n",
       "      <th>train</th>\n",
       "      <td>1.000000</td>\n",
       "      <td>1.000000</td>\n",
       "      <td>1.000000</td>\n",
       "      <td>1.000000</td>\n",
       "      <td>0.783296</td>\n",
       "    </tr>\n",
       "    <tr>\n",
       "      <th>test</th>\n",
       "      <td>0.800299</td>\n",
       "      <td>0.705036</td>\n",
       "      <td>0.302469</td>\n",
       "      <td>0.423326</td>\n",
       "      <td>0.774949</td>\n",
       "    </tr>\n",
       "    <tr>\n",
       "      <th rowspan=\"2\" valign=\"top\">xgboost</th>\n",
       "      <th>train</th>\n",
       "      <td>0.846376</td>\n",
       "      <td>0.825820</td>\n",
       "      <td>0.505646</td>\n",
       "      <td>0.627237</td>\n",
       "      <td>0.787055</td>\n",
       "    </tr>\n",
       "    <tr>\n",
       "      <th>test</th>\n",
       "      <td>0.795064</td>\n",
       "      <td>0.671233</td>\n",
       "      <td>0.302469</td>\n",
       "      <td>0.417021</td>\n",
       "      <td>0.781169</td>\n",
       "    </tr>\n",
       "  </tbody>\n",
       "</table>\n",
       "</div>"
      ],
      "text/plain": [
       "                    accuracy  precision    recall        f1   roc_auc\n",
       "Logistic     train  0.796665   0.689095  0.372647  0.483713  0.789119\n",
       "             test   0.783844   0.580645  0.388889  0.465804  0.776480\n",
       "SVM          train  0.793457   0.738318  0.297365  0.423971  0.783943\n",
       "             test   0.790576   0.646667  0.299383  0.409283  0.778290\n",
       "DecisionTree train  0.882938   0.815789  0.700125  0.753545  0.668708\n",
       "             test   0.750187   0.481752  0.407407  0.441472  0.581594\n",
       "RandomForest train  1.000000   1.000000  1.000000  1.000000  0.783296\n",
       "             test   0.800299   0.705036  0.302469  0.423326  0.774949\n",
       "xgboost      train  0.846376   0.825820  0.505646  0.627237  0.787055\n",
       "             test   0.795064   0.671233  0.302469  0.417021  0.781169"
      ]
     },
     "execution_count": 16,
     "metadata": {},
     "output_type": "execute_result"
    }
   ],
   "source": [
    "model_name = ['Logistic','SVM','DecisionTree','RandomForest','xgboost']\n",
    "columns = ['accuracy','precision','recall','f1','roc_auc']\n",
    "ttype = ['train','test']\n",
    "pd_list = []\n",
    "for train,test in zip(model_score_train,model_score_test):\n",
    "    pd_list.append(pd.DataFrame([train,test],index=ttype,columns=columns))\n",
    "    \n",
    "pd.concat(pd_list,axis=0,keys=model_name)"
   ]
  },
  {
   "cell_type": "code",
   "execution_count": 17,
   "metadata": {
    "scrolled": true
   },
   "outputs": [
    {
     "data": {
      "image/png": "[encoded data removed]",
      "text/plain": [
       "<Figure size 432x288 with 1 Axes>"
      ]
     },
     "metadata": {
      "needs_background": "light"
     },
     "output_type": "display_data"
    }
   ],
   "source": [
    "for score,label in zip(decision_score_test,['Logistic','SVM','DecisionTree','RandomForest','xgboost']):\n",
    "    fpr,tpr,threshold = roc_curve(y_test,score)\n",
    "    plot_roc_curve(fpr,tpr,label)\n",
    "plt.rcParams['figure.figsize'] = (8,5)    \n",
    "plt.axis([0,1,0,1])\n",
    "plt.xlabel('False Position Rate')\n",
    "plt.ylabel('False Position Rate')\n",
    "plt.legend()\n",
    "plt.show()"
   ]
  }
 ],
 "metadata": {
  "kernelspec": {
   "display_name": "Python 3",
   "language": "python",
   "name": "python3"
  },
  "language_info": {
   "codemirror_mode": {
    "name": "ipython",
    "version": 3
   },
   "file_extension": ".py",
   "mimetype": "text/x-python",
   "name": "python",
   "nbconvert_exporter": "python",
   "pygments_lexer": "ipython3",
   "version": "3.6.7"
  },
  "toc": {
   "base_numbering": 1,
   "nav_menu": {},
   "number_sections": true,
   "sideBar": true,
   "skip_h1_title": false,
   "title_cell": "Table of Contents",
   "title_sidebar": "Contents",
   "toc_cell": false,
   "toc_position": {
    "height": "calc(100% - 180px)",
    "left": "10px",
    "top": "150px",
    "width": "196.4px"
   },
   "toc_section_display": true,
   "toc_window_display": true
  }
 },
 "nbformat": 4,
 "nbformat_minor": 2
}
