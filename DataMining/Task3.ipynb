{
 "cells": [
  {
   "cell_type": "markdown",
   "metadata": {},
   "source": [
    "# 数据挖掘实践任务"
   ]
  },
  {
   "cell_type": "markdown",
   "metadata": {},
   "source": [
    "<b>任务描述</b>\n",
    "\n",
    "- 用逻辑回归、svm和决策树、随机森林和XGBoost进行模型构建，评分方式任意，如准确率等。（不需要考虑模型调参）"
   ]
  },
  {
   "cell_type": "code",
   "execution_count": 2,
   "metadata": {},
   "outputs": [
    {
     "name": "stdout",
     "output_type": "stream",
     "text": [
      "feature shape:(4455, 50), label shape:(4455,)\n"
     ]
    }
   ],
   "source": [
    "# 获取Task2进行特征选择后的数据集\n",
    "import pandas as pd\n",
    "dataset = pd.read_csv('./dataset/task2_proc.csv')\n",
    "features = dataset.iloc[:,:-1]\n",
    "labels = dataset.iloc[:,-1]\n",
    "print('feature shape:{}, label shape:{}'.format(features.shape,labels.shape))"
   ]
  },
  {
   "cell_type": "code",
   "execution_count": 3,
   "metadata": {},
   "outputs": [],
   "source": [
    "# 数据拆分\n",
    "from sklearn.model_selection import train_test_split\n",
    "from sklearn.preprocessing import StandardScaler\n",
    "\n",
    "random_state = 2018\n",
    "x_train,x_test,y_train,y_test = train_test_split(features,labels,test_size = 0.3,random_state=random_state)\n",
    "\n",
    "# 对训练数据集进行标准化处理\n",
    "scaler = StandardScaler()\n",
    "x_train_scale = scaler.fit_transform(x_train)\n",
    "x_test_scale = scaler.fit_transform(x_test)"
   ]
  },
  {
   "cell_type": "code",
   "execution_count": 4,
   "metadata": {},
   "outputs": [],
   "source": [
    "# 导入库\n",
    "from sklearn.linear_model import LogisticRegression\n",
    "from sklearn.svm import SVC\n",
    "from sklearn.tree import DecisionTreeClassifier\n",
    "from sklearn.ensemble import RandomForestClassifier\n",
    "from sklearn.model_selection import RandomizedSearchCV,cross_val_predict\n",
    "from scipy.stats import uniform\n",
    "from sklearn.metrics import accuracy_score,precision_score,recall_score,f1_score,roc_auc_score,roc_curve\n",
    "import matplotlib.pyplot as plt"
   ]
  },
  {
   "cell_type": "code",
   "execution_count": 61,
   "metadata": {},
   "outputs": [],
   "source": [
    "model_score_train = []   \n",
    "decision_score_train = [] \n",
    "model_score_test = []   \n",
    "decision_score_test = []\n",
    "\n",
    "def proc_score(y_pred,y_pred_scores,y_test,train=True):  \n",
    "    accuracy = accuracy_score(y_test,y_pred)\n",
    "    precision = precision_score(y_test,y_pred)\n",
    "    recall = recall_score(y_test,y_pred)\n",
    "    f1 = f1_score(y_test,y_pred)\n",
    "    roc_auc = roc_auc_score(y_test,y_pred_scores)\n",
    "\n",
    "    if train:\n",
    "        decision_score_train.append(y_pred_scores)\n",
    "        model_score_train.append([accuracy,precision,recall,f1,roc_auc])\n",
    "        text = 'Train'\n",
    "    else:\n",
    "        decision_score_test.append(y_pred_scores)\n",
    "        model_score_test.append([accuracy,precision,recall,f1,roc_auc])\n",
    "        text = 'Test'\n",
    " \n",
    "    print('{}: accuracy:{:.3f},precision:{:.3f},recall:{:.3f},f1:{:.3f},roc_auc:{:.3f}'.format(text,accuracy,precision,recall,f1,roc_auc))"
   ]
  },
  {
   "cell_type": "markdown",
   "metadata": {},
   "source": [
    "# 逻辑回归"
   ]
  },
  {
   "cell_type": "code",
   "execution_count": 6,
   "metadata": {},
   "outputs": [
    {
     "name": "stdout",
     "output_type": "stream",
     "text": [
      "Fitting 3 folds for each of 100 candidates, totalling 300 fits\n"
     ]
    },
    {
     "name": "stderr",
     "output_type": "stream",
     "text": [
      "[Parallel(n_jobs=-1)]: Using backend LokyBackend with 8 concurrent workers.\n",
      "[Parallel(n_jobs=-1)]: Done  25 tasks      | elapsed:    3.5s\n",
      "[Parallel(n_jobs=-1)]: Done 146 tasks      | elapsed:    7.7s\n",
      "[Parallel(n_jobs=-1)]: Done 300 out of 300 | elapsed:   12.4s finished\n"
     ]
    }
   ],
   "source": [
    "param_distributions = {'C':uniform(0,10)}\n",
    "rs_clf = RandomizedSearchCV(LogisticRegression(solver='liblinear'), param_distributions=param_distributions, cv = 3,n_iter=100,\n",
    "                           random_state=random_state,verbose=2,n_jobs=-1)\n",
    "rs_clf.fit(x_train_scale,y_train)\n",
    "logistic = rs_clf.best_estimator_"
   ]
  },
  {
   "cell_type": "code",
   "execution_count": 62,
   "metadata": {},
   "outputs": [
    {
     "name": "stdout",
     "output_type": "stream",
     "text": [
      "Train: accuracy:0.799,precision:0.713,recall:0.355,f1:0.474,roc_auc:0.785\n",
      "Test: accuracy:0.791,precision:0.624,recall:0.349,f1:0.448,roc_auc:0.784\n"
     ]
    }
   ],
   "source": [
    "y_pred = logistic.predict(x_train_scale)\n",
    "y_pred_scores = cross_val_predict(logistic,x_train_scale,y_train,cv=5,\n",
    "                                method='decision_function')\n",
    "proc_score(y_pred,y_pred_scores,y_train,train=True)\n",
    "y_pred = logistic.predict(x_test_scale)\n",
    "y_pred_scores = cross_val_predict(logistic,x_test_scale,y_test,cv=5,\n",
    "                                method='decision_function')\n",
    "proc_score(y_pred,y_pred_scores,y_test,train=False)"
   ]
  },
  {
   "cell_type": "markdown",
   "metadata": {},
   "source": [
    "# SVM"
   ]
  },
  {
   "cell_type": "code",
   "execution_count": 26,
   "metadata": {},
   "outputs": [
    {
     "name": "stdout",
     "output_type": "stream",
     "text": [
      "Fitting 3 folds for each of 100 candidates, totalling 300 fits\n"
     ]
    },
    {
     "name": "stderr",
     "output_type": "stream",
     "text": [
      "[Parallel(n_jobs=-1)]: Using backend LokyBackend with 8 concurrent workers.\n",
      "[Parallel(n_jobs=-1)]: Done  25 tasks      | elapsed:   28.6s\n",
      "[Parallel(n_jobs=-1)]: Done 146 tasks      | elapsed:  2.4min\n",
      "[Parallel(n_jobs=-1)]: Done 300 out of 300 | elapsed:  4.5min finished\n"
     ]
    },
    {
     "data": {
      "text/plain": [
       "RandomizedSearchCV(cv=3, error_score='raise-deprecating',\n",
       "                   estimator=SVC(C=1.0, cache_size=200, class_weight=None,\n",
       "                                 coef0=0.0, decision_function_shape='ovr',\n",
       "                                 degree=3, gamma='auto_deprecated',\n",
       "                                 kernel='linear', max_iter=-1,\n",
       "                                 probability=False, random_state=None,\n",
       "                                 shrinking=True, tol=0.001, verbose=False),\n",
       "                   iid='warn', n_iter=100, n_jobs=-1,\n",
       "                   param_distributions={'C': <scipy.stats._distn_infrastructure.rv_frozen object at 0x00000220C5207860>},\n",
       "                   pre_dispatch='2*n_jobs', random_state=2018, refit=True,\n",
       "                   return_train_score=False, scoring=None, verbose=2)"
      ]
     },
     "execution_count": 26,
     "metadata": {},
     "output_type": "execute_result"
    }
   ],
   "source": [
    "param_distributions = {'C':uniform(0,10)}\n",
    "rs_clf = RandomizedSearchCV(SVC(kernel='linear'), param_distributions=param_distributions,cv=3,n_iter=100,\n",
    "                              random_state=random_state,verbose=2,n_jobs=-1)\n",
    "rs_clf.fit(x_train_scale, y_train)"
   ]
  },
  {
   "cell_type": "code",
   "execution_count": 63,
   "metadata": {},
   "outputs": [
    {
     "name": "stdout",
     "output_type": "stream",
     "text": [
      "Train: accuracy:0.789,precision:0.779,recall:0.243,f1:0.371,roc_auc:0.784\n",
      "Test: accuracy:0.791,precision:0.696,recall:0.241,f1:0.358,roc_auc:0.788\n"
     ]
    }
   ],
   "source": [
    "svc = rs_clf.best_estimator_\n",
    "\n",
    "y_pred = svc.predict(x_train_scale)\n",
    "y_pred_scores = cross_val_predict(svc,x_train_scale,y_train,cv=3,\n",
    "                                method='decision_function')\n",
    "proc_score(y_pred,y_pred_scores,y_train,train=True)\n",
    "\n",
    "y_pred = svc.predict(x_test_scale)\n",
    "y_pred_scores = cross_val_predict(svc,x_test_scale,y_test,cv=5,\n",
    "                                method='decision_function')\n",
    "proc_score(y_pred,y_pred_scores,y_test,train=False)"
   ]
  },
  {
   "cell_type": "markdown",
   "metadata": {},
   "source": [
    "# 决策树"
   ]
  },
  {
   "cell_type": "code",
   "execution_count": 56,
   "metadata": {},
   "outputs": [
    {
     "data": {
      "text/plain": [
       "DecisionTreeClassifier(class_weight=None, criterion='gini', max_depth=8,\n",
       "                       max_features=None, max_leaf_nodes=None,\n",
       "                       min_impurity_decrease=0.0, min_impurity_split=None,\n",
       "                       min_samples_leaf=1, min_samples_split=2,\n",
       "                       min_weight_fraction_leaf=0.0, presort=False,\n",
       "                       random_state=None, splitter='best')"
      ]
     },
     "execution_count": 56,
     "metadata": {},
     "output_type": "execute_result"
    }
   ],
   "source": [
    "dt_clf = DecisionTreeClassifier(max_depth=8)\n",
    "dt_clf.fit(x_train_scale,y_train)"
   ]
  },
  {
   "cell_type": "code",
   "execution_count": 64,
   "metadata": {},
   "outputs": [
    {
     "name": "stdout",
     "output_type": "stream",
     "text": [
      "Train: accuracy:0.893,precision:0.883,recall:0.671,f1:0.763,roc_auc:0.642\n",
      "Test: accuracy:0.746,precision:0.471,recall:0.383,f1:0.422,roc_auc:0.599\n"
     ]
    }
   ],
   "source": [
    "y_pred = dt_clf.predict(x_train_scale)\n",
    "y_pred_scores = cross_val_predict(dt_clf,x_train_scale,y_train,cv=5,\n",
    "                                method='predict_proba')\n",
    "proc_score(y_pred,y_pred_scores[:,1],y_train,train=True)\n",
    "\n",
    "y_pred = dt_clf.predict(x_test_scale)\n",
    "y_pred_scores = cross_val_predict(dt_clf,x_test_scale,y_test,cv=5,\n",
    "                                method='predict_proba')\n",
    "proc_score(y_pred,y_pred_scores[:,1],y_test,train=False)"
   ]
  },
  {
   "cell_type": "markdown",
   "metadata": {},
   "source": [
    "# 随机森林"
   ]
  },
  {
   "cell_type": "code",
   "execution_count": 58,
   "metadata": {},
   "outputs": [
    {
     "data": {
      "text/plain": [
       "0.7957023733162284"
      ]
     },
     "execution_count": 58,
     "metadata": {},
     "output_type": "execute_result"
    }
   ],
   "source": [
    "rf_clf = RandomForestClassifier(n_estimators=1000,criterion='gini',oob_score=True,\n",
    "                               random_state=random_state,verbose=0,n_jobs=-1)\n",
    "rf_clf.fit(x_train_scale,y_train)\n",
    "rf_clf.oob_score_"
   ]
  },
  {
   "cell_type": "code",
   "execution_count": 65,
   "metadata": {
    "scrolled": true
   },
   "outputs": [
    {
     "name": "stdout",
     "output_type": "stream",
     "text": [
      "Train: accuracy:1.000,precision:1.000,recall:1.000,f1:1.000,roc_auc:0.784\n",
      "Test: accuracy:0.802,precision:0.712,recall:0.306,f1:0.428,roc_auc:0.777\n"
     ]
    }
   ],
   "source": [
    "y_pred = rf_clf.predict(x_train_scale)\n",
    "y_pred_scores = cross_val_predict(rf_clf,x_train_scale,y_train,cv=5,\n",
    "                                method='predict_proba')\n",
    "proc_score(y_pred,y_pred_scores[:,1],y_train,train=True)\n",
    "\n",
    "y_pred = rf_clf.predict(x_test_scale)\n",
    "y_pred_scores = cross_val_predict(rf_clf,x_test_scale,y_test,cv=5,\n",
    "                                method='predict_proba')\n",
    "proc_score(y_pred,y_pred_scores[:,1],y_test,train=False)"
   ]
  },
  {
   "cell_type": "markdown",
   "metadata": {},
   "source": [
    "# xgboost"
   ]
  },
  {
   "cell_type": "code",
   "execution_count": 32,
   "metadata": {},
   "outputs": [
    {
     "data": {
      "text/plain": [
       "XGBClassifier(base_score=0.5, booster='gbtree', colsample_bylevel=1,\n",
       "              colsample_bynode=1, colsample_bytree=1, gamma=0,\n",
       "              learning_rate=0.1, max_delta_step=0, max_depth=3,\n",
       "              min_child_weight=1, missing=None, n_estimators=100, n_jobs=1,\n",
       "              nthread=None, objective='binary:logistic', random_state=0,\n",
       "              reg_alpha=0, reg_lambda=1, scale_pos_weight=1, seed=None,\n",
       "              silent=None, subsample=1, verbosity=1)"
      ]
     },
     "execution_count": 32,
     "metadata": {},
     "output_type": "execute_result"
    }
   ],
   "source": [
    "from xgboost import XGBClassifier\n",
    "xgbst = XGBClassifier()\n",
    "xgbst.fit(x_train_scale,y_train)"
   ]
  },
  {
   "cell_type": "code",
   "execution_count": 66,
   "metadata": {},
   "outputs": [
    {
     "name": "stdout",
     "output_type": "stream",
     "text": [
      "Train: accuracy:0.846,precision:0.843,recall:0.491,f1:0.620,roc_auc:0.783\n",
      "Test: accuracy:0.806,precision:0.707,recall:0.343,f1:0.462,roc_auc:0.798\n"
     ]
    }
   ],
   "source": [
    "y_pred = xgbst.predict(x_train_scale)\n",
    "y_pred_scores = cross_val_predict(xgbst,x_train_scale,y_train,cv=5,\n",
    "                                method='predict_proba')\n",
    "proc_score(y_pred,y_pred_scores[:,1],y_train,train=True)\n",
    "\n",
    "y_pred = xgbst.predict(x_test_scale)\n",
    "y_pred_scores = cross_val_predict(xgbst,x_test_scale,y_test,cv=5,\n",
    "                                method='predict_proba')\n",
    "proc_score(y_pred,y_pred_scores[:,1],y_test,train=False)"
   ]
  },
  {
   "cell_type": "markdown",
   "metadata": {},
   "source": [
    "# 对各模型分数进行比较"
   ]
  },
  {
   "cell_type": "code",
   "execution_count": 67,
   "metadata": {},
   "outputs": [
    {
     "data": {
      "text/html": [
       "<div>\n",
       "<style scoped>\n",
       "    .dataframe tbody tr th:only-of-type {\n",
       "        vertical-align: middle;\n",
       "    }\n",
       "\n",
       "    .dataframe tbody tr th {\n",
       "        vertical-align: top;\n",
       "    }\n",
       "\n",
       "    .dataframe thead th {\n",
       "        text-align: right;\n",
       "    }\n",
       "</style>\n",
       "<table border=\"1\" class=\"dataframe\">\n",
       "  <thead>\n",
       "    <tr style=\"text-align: right;\">\n",
       "      <th></th>\n",
       "      <th></th>\n",
       "      <th>accuracy</th>\n",
       "      <th>precision</th>\n",
       "      <th>recall</th>\n",
       "      <th>f1</th>\n",
       "      <th>roc_auc</th>\n",
       "    </tr>\n",
       "  </thead>\n",
       "  <tbody>\n",
       "    <tr>\n",
       "      <th rowspan=\"2\" valign=\"top\">Logistic</th>\n",
       "      <th>train</th>\n",
       "      <td>0.798589</td>\n",
       "      <td>0.712846</td>\n",
       "      <td>0.355082</td>\n",
       "      <td>0.474037</td>\n",
       "      <td>0.785294</td>\n",
       "    </tr>\n",
       "    <tr>\n",
       "      <th>test</th>\n",
       "      <td>0.791324</td>\n",
       "      <td>0.624309</td>\n",
       "      <td>0.348765</td>\n",
       "      <td>0.447525</td>\n",
       "      <td>0.784030</td>\n",
       "    </tr>\n",
       "    <tr>\n",
       "      <th rowspan=\"2\" valign=\"top\">SVM</th>\n",
       "      <th>train</th>\n",
       "      <td>0.788967</td>\n",
       "      <td>0.779116</td>\n",
       "      <td>0.243413</td>\n",
       "      <td>0.370937</td>\n",
       "      <td>0.783726</td>\n",
       "    </tr>\n",
       "    <tr>\n",
       "      <th>test</th>\n",
       "      <td>0.790576</td>\n",
       "      <td>0.696429</td>\n",
       "      <td>0.240741</td>\n",
       "      <td>0.357798</td>\n",
       "      <td>0.787960</td>\n",
       "    </tr>\n",
       "    <tr>\n",
       "      <th rowspan=\"2\" valign=\"top\">DecisionTree</th>\n",
       "      <th>train</th>\n",
       "      <td>0.893201</td>\n",
       "      <td>0.882838</td>\n",
       "      <td>0.671267</td>\n",
       "      <td>0.762651</td>\n",
       "      <td>0.642370</td>\n",
       "    </tr>\n",
       "    <tr>\n",
       "      <th>test</th>\n",
       "      <td>0.746447</td>\n",
       "      <td>0.471483</td>\n",
       "      <td>0.382716</td>\n",
       "      <td>0.422487</td>\n",
       "      <td>0.599116</td>\n",
       "    </tr>\n",
       "    <tr>\n",
       "      <th rowspan=\"2\" valign=\"top\">RandomForest</th>\n",
       "      <th>train</th>\n",
       "      <td>1.000000</td>\n",
       "      <td>1.000000</td>\n",
       "      <td>1.000000</td>\n",
       "      <td>1.000000</td>\n",
       "      <td>0.783887</td>\n",
       "    </tr>\n",
       "    <tr>\n",
       "      <th>test</th>\n",
       "      <td>0.801795</td>\n",
       "      <td>0.712230</td>\n",
       "      <td>0.305556</td>\n",
       "      <td>0.427646</td>\n",
       "      <td>0.776765</td>\n",
       "    </tr>\n",
       "    <tr>\n",
       "      <th rowspan=\"2\" valign=\"top\">xgboost</th>\n",
       "      <th>train</th>\n",
       "      <td>0.846376</td>\n",
       "      <td>0.842672</td>\n",
       "      <td>0.490590</td>\n",
       "      <td>0.620143</td>\n",
       "      <td>0.783353</td>\n",
       "    </tr>\n",
       "    <tr>\n",
       "      <th>test</th>\n",
       "      <td>0.806283</td>\n",
       "      <td>0.707006</td>\n",
       "      <td>0.342593</td>\n",
       "      <td>0.461538</td>\n",
       "      <td>0.798277</td>\n",
       "    </tr>\n",
       "  </tbody>\n",
       "</table>\n",
       "</div>"
      ],
      "text/plain": [
       "                    accuracy  precision    recall        f1   roc_auc\n",
       "Logistic     train  0.798589   0.712846  0.355082  0.474037  0.785294\n",
       "             test   0.791324   0.624309  0.348765  0.447525  0.784030\n",
       "SVM          train  0.788967   0.779116  0.243413  0.370937  0.783726\n",
       "             test   0.790576   0.696429  0.240741  0.357798  0.787960\n",
       "DecisionTree train  0.893201   0.882838  0.671267  0.762651  0.642370\n",
       "             test   0.746447   0.471483  0.382716  0.422487  0.599116\n",
       "RandomForest train  1.000000   1.000000  1.000000  1.000000  0.783887\n",
       "             test   0.801795   0.712230  0.305556  0.427646  0.776765\n",
       "xgboost      train  0.846376   0.842672  0.490590  0.620143  0.783353\n",
       "             test   0.806283   0.707006  0.342593  0.461538  0.798277"
      ]
     },
     "execution_count": 67,
     "metadata": {},
     "output_type": "execute_result"
    }
   ],
   "source": [
    "model_name = ['Logistic','SVM','DecisionTree','RandomForest','xgboost']\n",
    "columns = ['accuracy','precision','recall','f1','roc_auc']\n",
    "ttype = ['train','test']\n",
    "pd_list = []\n",
    "for train,test in zip(model_score_train,model_score_test):\n",
    "    pd_list.append(pd.DataFrame([train,test],index=ttype,columns=columns))\n",
    "    \n",
    "pd.concat(pd_list,axis=0,keys=model_name)"
   ]
  },
  {
   "cell_type": "code",
   "execution_count": 69,
   "metadata": {},
   "outputs": [
    {
     "data": {
      "image/png": "[encoded data removed]",
      "text/plain": [
       "<Figure size 576x360 with 1 Axes>"
      ]
     },
     "metadata": {
      "needs_background": "light"
     },
     "output_type": "display_data"
    }
   ],
   "source": [
    "# 绘制ROC取下对比图\n",
    "def plot_roc_curve(fpr,tpr,label=None):\n",
    "    plt.plot(fpr,tpr,linewidth=2,label=label)\n",
    "    plt.plot([0,1],[0,1],'k--')\n",
    "\n",
    "for score,label in zip(decision_score_test,['Logistic','SVM','DecisionTree','RandomForest','xgboost']):\n",
    "    fpr,tpr,threshold = roc_curve(y_test,score)\n",
    "    plot_roc_curve(fpr,tpr,label)\n",
    "plt.rcParams['figure.figsize'] = (8,5)    \n",
    "plt.axis([0,1,0,1])\n",
    "plt.xlabel('False Position Rate')\n",
    "plt.ylabel('False Position Rate')\n",
    "plt.legend()\n",
    "plt.show()"
   ]
  }
 ],
 "metadata": {
  "kernelspec": {
   "display_name": "Python 3",
   "language": "python",
   "name": "python3"
  },
  "language_info": {
   "codemirror_mode": {
    "name": "ipython",
    "version": 3
   },
   "file_extension": ".py",
   "mimetype": "text/x-python",
   "name": "python",
   "nbconvert_exporter": "python",
   "pygments_lexer": "ipython3",
   "version": "3.6.7"
  },
  "toc": {
   "base_numbering": 1,
   "nav_menu": {},
   "number_sections": true,
   "sideBar": true,
   "skip_h1_title": false,
   "title_cell": "Table of Contents",
   "title_sidebar": "Contents",
   "toc_cell": false,
   "toc_position": {
    "height": "calc(100% - 180px)",
    "left": "10px",
    "top": "150px",
    "width": "196.4px"
   },
   "toc_section_display": true,
   "toc_window_display": true
  }
 },
 "nbformat": 4,
 "nbformat_minor": 2
}
